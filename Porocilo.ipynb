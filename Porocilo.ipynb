{
 "cells": [
  {
   "cell_type": "markdown",
   "metadata": {},
   "source": [
    "Funkcija preberi_kriptogram prebere kriptogram iz datoteke podane s `file_path` in odstrani presledke in nove vrstice, vrne pa string."
   ]
  },
  {
   "cell_type": "code",
   "execution_count": null,
   "metadata": {},
   "outputs": [],
   "source": [
    "def preberi_kriptogram(file_path):\n",
    "    with open(file_path, 'r', encoding='utf-8') as dat:\n",
    "        text = dat.read()\n",
    "        text = text.replace('\\n', '').replace(' ', '')\n",
    "        return text"
   ]
  },
  {
   "cell_type": "markdown",
   "metadata": {},
   "source": [
    "Nato pripravim funkciji za pretvarjanja črk v števlke in obratno. Funkcija `crke_v_stevilke` pretvoti črke besedila v ustrezno število `a -> 0, b -> 1, ..., z -> 25` in vrne seznam številk. Funkcija `stevilke_v_crke` pa naredi ravno obratno, sprejme seznam številk in vrne seznam pripadajočih črk."
   ]
  },
  {
   "cell_type": "code",
   "execution_count": null,
   "metadata": {},
   "outputs": [],
   "source": [
    "def crke_v_stevilke (text):\n",
    "    return [ord(crka) - ord('a') for crka in text]\n",
    "\n",
    "def stevilke_v_crke (stevilke):\n",
    "    list = []\n",
    "    x = ord('a')\n",
    "    for stevilo in stevilke:\n",
    "        list.append(chr(int(stevilo) + x))\n",
    "    return list"
   ]
  },
  {
   "cell_type": "markdown",
   "metadata": {},
   "source": [
    "Sledi glavna funkcija `desifriraj`. Za dešifriranje Hillove šifre z dolžino bloka 2 moramo najti šifrirni ključ, ki je v tem primeru matrika velikosti 2x2. Ker je dešifrirni ključ inverzna matrika šifrirnega, morata biti matriki obrnljivi, torej z neničelno determinanto, kar smo upoštevali v 6. vrstici. \n",
    "Iščemo torej elemente matrike $H = \\begin{bmatrix} h1 & h3 \\\\ h2 & h4\\end{bmatrix}$, ki bo v našem primeru dešifrirni ključ, šifrirni pa bi bil $H^{-1}$. \\n\n",
    "V svoji kodi sem se sprehodil čez vse elemente matrike in nato ugibal, da se v besedilu pojavita besedi `the` in `and`, ki sta zelo pogosti angleški besedi. Ker pa smo pri predmetu Teorija kodiranja in kriptografija sem po nekaj poskusih uganil, da se bo v besedilu pojavila tudi beseda `crypto`. "
   ]
  },
  {
   "cell_type": "code",
   "execution_count": null,
   "metadata": {},
   "outputs": [],
   "source": [
    "def desifriraj (kriptogram):  \n",
    "    for h1 in range(0,26):\n",
    "        for h2 in range(0,26):\n",
    "            for h3 in range(0,26):\n",
    "                for h4 in range(0,26):\n",
    "                    if (h1*h4 - h2*h3) % 26 != 0:   #Determinanta različna od 0, matrika mora biti obrnljiva.\n",
    "                        resitev = []\n",
    "                        for i in range(0, len(kriptogram), 2):\n",
    "                            a = kriptogram[i]\n",
    "                            b = kriptogram[i+1]\n",
    "                            resitev.append((a*h1 + b*h3) % 26)\n",
    "                            resitev.append((a*h2 + b*h4) % 26)\n",
    "                        \n",
    "                        resitev = stevilke_v_crke(resitev)\n",
    "                        resitev = ''.join(resitev)\n",
    "                        if 'the' in resitev  and 'and' in resitev and 'crypto' in resitev: #Ugibam, da se bodo te besede pojavile v besedilu.\n",
    "                            print(resitev)\n",
    "                            print(h1, h2, h3, h4)"
   ]
  },
  {
   "cell_type": "markdown",
   "metadata": {},
   "source": [
    "Program poženemo s spodnjim ukazom, ki nam vrne dešifrirano besedilo in elemente matrike h1, h2, h3, h4. Ko sem pognal kodo je moj računalnik za končanje porabil 34,1s, kar sem prebral iz spodnjega dela naslednjega okenca. "
   ]
  },
  {
   "cell_type": "code",
   "execution_count": null,
   "metadata": {},
   "outputs": [],
   "source": [
    "file_path = 'kriptogram.txt'\n",
    "kriptogram_stevilke = crke_v_stevilke(preberi_kriptogram(file_path))\n",
    "desifrirano_besedilo = desifriraj(kriptogram_stevilke)"
   ]
  }
 ],
 "metadata": {
  "kernelspec": {
   "display_name": "Python 3",
   "language": "python",
   "name": "python3"
  },
  "language_info": {
   "codemirror_mode": {
    "name": "ipython",
    "version": 3
   },
   "file_extension": ".py",
   "mimetype": "text/x-python",
   "name": "python",
   "nbconvert_exporter": "python",
   "pygments_lexer": "ipython3",
   "version": "3.13.2"
  }
 },
 "nbformat": 4,
 "nbformat_minor": 2
}
